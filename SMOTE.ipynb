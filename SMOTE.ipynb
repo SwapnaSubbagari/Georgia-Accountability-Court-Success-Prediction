{
 "cells": [
  {
   "cell_type": "code",
   "execution_count": 1,
   "id": "fcdbfbcc-3295-4fbf-a29a-d41e3f6c4af5",
   "metadata": {},
   "outputs": [],
   "source": [
    "#import dependencies\n",
    "import numpy as np\n",
    "import matplotlib.pyplot as plt\n",
    "import pandas as pd\n",
    "from pathlib import Path\n",
    "import warnings\n",
    "warnings.filterwarnings('ignore')"
   ]
  },
  {
   "cell_type": "code",
   "execution_count": 28,
   "id": "41b57cf5-315f-4aa4-a508-0d3ba2c0c82d",
   "metadata": {},
   "outputs": [
    {
     "data": {
      "text/plain": [
       "Graduated                2534\n",
       "Terminated/Discharged    1562\n",
       "Name: GRADUATED2, dtype: int64"
      ]
     },
     "execution_count": 28,
     "metadata": {},
     "output_type": "execute_result"
    }
   ],
   "source": [
    " #Read the data as a CSV file\n",
    "data1 = pd.read_csv(Path('ml_df.csv'))\n",
    "data1['GRADUATED2'].value_counts()"
   ]
  },
  {
   "cell_type": "code",
   "execution_count": 3,
   "id": "5e1f6747-d176-4b2f-899a-c6ff025fc3f8",
   "metadata": {},
   "outputs": [],
   "source": [
    "from matplotlib import pyplot as plt\n",
    "from sklearn import datasets\n",
    "from sklearn.tree import DecisionTreeClassifier \n",
    "from sklearn import tree"
   ]
  },
  {
   "cell_type": "code",
   "execution_count": 4,
   "id": "f053e307-5225-4404-92f6-af04bb1c1c45",
   "metadata": {},
   "outputs": [
    {
     "data": {
      "text/html": [
       "<div>\n",
       "<style scoped>\n",
       "    .dataframe tbody tr th:only-of-type {\n",
       "        vertical-align: middle;\n",
       "    }\n",
       "\n",
       "    .dataframe tbody tr th {\n",
       "        vertical-align: top;\n",
       "    }\n",
       "\n",
       "    .dataframe thead th {\n",
       "        text-align: right;\n",
       "    }\n",
       "</style>\n",
       "<table border=\"1\" class=\"dataframe\">\n",
       "  <thead>\n",
       "    <tr style=\"text-align: right;\">\n",
       "      <th></th>\n",
       "      <th>No_SANC_INCENT</th>\n",
       "      <th>No_TREATMENTS</th>\n",
       "      <th>No_DRUG_TEST</th>\n",
       "      <th>No_HEARING</th>\n",
       "      <th>AGE</th>\n",
       "      <th>DAYS_TO_ACCEPTANCE</th>\n",
       "      <th>PROGRAM_TYPE_DUI Courts</th>\n",
       "      <th>RISK_LEVEL3_high</th>\n",
       "    </tr>\n",
       "  </thead>\n",
       "  <tbody>\n",
       "    <tr>\n",
       "      <th>0</th>\n",
       "      <td>1</td>\n",
       "      <td>1</td>\n",
       "      <td>1</td>\n",
       "      <td>0</td>\n",
       "      <td>35.468847</td>\n",
       "      <td>5.0</td>\n",
       "      <td>0</td>\n",
       "      <td>1</td>\n",
       "    </tr>\n",
       "    <tr>\n",
       "      <th>1</th>\n",
       "      <td>0</td>\n",
       "      <td>0</td>\n",
       "      <td>21</td>\n",
       "      <td>1</td>\n",
       "      <td>35.468847</td>\n",
       "      <td>5.0</td>\n",
       "      <td>0</td>\n",
       "      <td>1</td>\n",
       "    </tr>\n",
       "    <tr>\n",
       "      <th>2</th>\n",
       "      <td>1</td>\n",
       "      <td>1</td>\n",
       "      <td>5</td>\n",
       "      <td>3</td>\n",
       "      <td>32.917170</td>\n",
       "      <td>75.0</td>\n",
       "      <td>0</td>\n",
       "      <td>0</td>\n",
       "    </tr>\n",
       "    <tr>\n",
       "      <th>3</th>\n",
       "      <td>1</td>\n",
       "      <td>1</td>\n",
       "      <td>0</td>\n",
       "      <td>0</td>\n",
       "      <td>32.509230</td>\n",
       "      <td>157.0</td>\n",
       "      <td>0</td>\n",
       "      <td>1</td>\n",
       "    </tr>\n",
       "    <tr>\n",
       "      <th>4</th>\n",
       "      <td>0</td>\n",
       "      <td>0</td>\n",
       "      <td>6</td>\n",
       "      <td>1</td>\n",
       "      <td>32.509230</td>\n",
       "      <td>157.0</td>\n",
       "      <td>0</td>\n",
       "      <td>1</td>\n",
       "    </tr>\n",
       "  </tbody>\n",
       "</table>\n",
       "</div>"
      ],
      "text/plain": [
       "   No_SANC_INCENT  No_TREATMENTS  No_DRUG_TEST  No_HEARING        AGE  \\\n",
       "0               1              1             1           0  35.468847   \n",
       "1               0              0            21           1  35.468847   \n",
       "2               1              1             5           3  32.917170   \n",
       "3               1              1             0           0  32.509230   \n",
       "4               0              0             6           1  32.509230   \n",
       "\n",
       "   DAYS_TO_ACCEPTANCE  PROGRAM_TYPE_DUI Courts  RISK_LEVEL3_high  \n",
       "0                 5.0                        0                 1  \n",
       "1                 5.0                        0                 1  \n",
       "2                75.0                        0                 0  \n",
       "3               157.0                        0                 1  \n",
       "4               157.0                        0                 1  "
      ]
     },
     "execution_count": 4,
     "metadata": {},
     "output_type": "execute_result"
    }
   ],
   "source": [
    "#create features\n",
    "\n",
    "X = pd.get_dummies(data1, columns= ['PROGRAM_TYPE', 'RISK_LEVEL3']).drop('GRADUATED2',axis=1)\n",
    "\n",
    "y = data1['GRADUATED2']\n",
    "\n",
    "X = X.drop(['PROGRAM_TYPE_Family Treatment', 'PROGRAM_TYPE_Felony Drug','PROGRAM_TYPE_Juvenile Drug',\n",
    "            'PROGRAM_TYPE_Mental Health', 'PROGRAM_TYPE_Veterans Court', 'RISK_LEVEL3_low',\n",
    "            'RISK_LEVEL3_moderate'           \n",
    "                      ], axis=1)\n",
    "X.head()"
   ]
  },
  {
   "cell_type": "code",
   "execution_count": 5,
   "id": "9844f8ce-e8aa-47ff-9187-c50292895385",
   "metadata": {},
   "outputs": [
    {
     "name": "stdout",
     "output_type": "stream",
     "text": [
      "0.8.1\n"
     ]
    }
   ],
   "source": [
    "# check version number\n",
    "# Oversample and plot imbalanced dataset with SMOTE\n",
    "from collections import Counter\n",
    "import imblearn\n",
    "print(imblearn.__version__)\n",
    "\n"
   ]
  },
  {
   "cell_type": "code",
   "execution_count": 6,
   "id": "f7b5044e-1fba-4931-96b5-66a97fefb048",
   "metadata": {},
   "outputs": [],
   "source": [
    "from sklearn.model_selection import train_test_split\n",
    "X_train, X_test, y_train, y_test = train_test_split(X, y, random_state=23, stratify=y)"
   ]
  },
  {
   "cell_type": "code",
   "execution_count": 7,
   "id": "9b13f964-62df-4cb2-b079-4df0f32fcde9",
   "metadata": {},
   "outputs": [
    {
     "name": "stdout",
     "output_type": "stream",
     "text": [
      "Before Counter({'Graduated': 1901, 'Terminated/Discharged': 1171})\n",
      "After Counter({'Graduated': 1901, 'Terminated/Discharged': 1901})\n"
     ]
    }
   ],
   "source": [
    "from imblearn.over_sampling import SMOTE\n",
    "# summarize class distribution\n",
    "counter = Counter(y_train)\n",
    "print('Before', counter)\n",
    "oversample = SMOTE()\n",
    "X_train_sm, y_train_sm = oversample.fit_resample(X_train, y_train)\n",
    "counter = Counter(y_train_sm)\n",
    "print('After', counter)"
   ]
  },
  {
   "cell_type": "code",
   "execution_count": 14,
   "id": "1c012e59-c756-465f-b143-36829a81fd4c",
   "metadata": {},
   "outputs": [],
   "source": [
    "from sklearn import model_selection\n",
    "from sklearn.ensemble import GradientBoostingClassifier\n",
    "import pickle\n",
    "#fit the model to the training set\n",
    "gbm_model = GradientBoostingClassifier(random_state=42)\n",
    "#Train our model using the training data: output training and testing scores\n",
    "\n",
    "\n",
    "\n",
    "from sklearn.model_selection import RandomizedSearchCV\n",
    "# Number of trees in random forest\n",
    "n_estimators = [int(x) for x in np.linspace(start = 100, stop = 1000, num = 40)]\n",
    "# Number of features to consider at every split\n",
    "max_features = ['auto', 'sqrt']\n",
    "# Maximum number of levels in tree\n",
    "max_depth = [3, 4, 5, 6, 7, 8]\n",
    "max_depth.append(None)\n",
    "# Minimum number of samples required to split a node\n",
    "min_samples_split = [2, 3, 4, 5, 10]\n",
    "# Minimum number of samples required at each leaf node\n",
    "min_samples_leaf = [1, 2, 4, 5]\n",
    "# Create the random grid\n",
    "random_grid = {'n_estimators': n_estimators,\n",
    "               'max_features': max_features,\n",
    "               'max_depth': max_depth,\n",
    "               'min_samples_split': min_samples_split,\n",
    "               'min_samples_leaf': min_samples_leaf}\n",
    "\n",
    "\n",
    "\n",
    "# # save the model to disk\n",
    "# filename = 'finalized_model.sav'\n",
    "# pickle.dump(model, open(filename, 'wb'))\n",
    "\n",
    "# y_pred = rf_model.predict(X_test_scaled)\n",
    "# print(f'*****************RANDOM FOREST MODEL*******************')\n",
    "# print(classification_report_imbalanced(y_test, y_pred))\n",
    "# # rf_model.score(X_train_scaled, y_train)\n",
    "# # rf_model.score(X_test_scaled, y_test)\n",
    "# print(f'Training Score: {rf_model.score(X_train_scaled, y_train)}')\n",
    "# print(f'Testing Score: {rf_model.score(X_test_scaled, y_test)}')"
   ]
  },
  {
   "cell_type": "code",
   "execution_count": 15,
   "id": "f8c88fbf-17ed-4a20-87b6-b637e8b441f4",
   "metadata": {},
   "outputs": [
    {
     "name": "stdout",
     "output_type": "stream",
     "text": [
      "Fitting 3 folds for each of 40 candidates, totalling 120 fits\n"
     ]
    },
    {
     "data": {
      "text/plain": [
       "{'n_estimators': 792,\n",
       " 'min_samples_split': 3,\n",
       " 'min_samples_leaf': 1,\n",
       " 'max_features': 'sqrt',\n",
       " 'max_depth': 7}"
      ]
     },
     "execution_count": 15,
     "metadata": {},
     "output_type": "execute_result"
    }
   ],
   "source": [
    "# Use the random grid to search for best hyperparameters\n",
    "# First create the base model to tune\n",
    "gbm = GradientBoostingClassifier()\n",
    "# Random search of parameters, using 3 fold cross validation, \n",
    "# search across 100 different combinations, and use all available cores\n",
    "gbm_search = RandomizedSearchCV(estimator = gbm, param_distributions = random_grid, n_iter = 40, cv = 3, verbose=2, random_state=42, n_jobs = -1)\n",
    "# Fit the random search model\n",
    "gbm_search.fit(X_train_sm, y_train_sm)\n",
    "gbm_search.best_params_"
   ]
  },
  {
   "cell_type": "code",
   "execution_count": 13,
   "id": "7d8706bb-6e59-49d5-8294-d305ed80c653",
   "metadata": {},
   "outputs": [
    {
     "name": "stdout",
     "output_type": "stream",
     "text": [
      "*****************************GRADIENT BOOSTING MODEL USING SMOTE************************************\n",
      "                             pre       rec       spe        f1       geo       iba       sup\n",
      "\n",
      "            Graduated       0.83      0.80      0.73      0.81      0.76      0.59       633\n",
      "Terminated/Discharged       0.69      0.73      0.80      0.71      0.76      0.58       391\n",
      "\n",
      "          avg / total       0.78      0.77      0.76      0.77      0.76      0.58      1024\n",
      "\n",
      "Training Score: 0.8597005208333334\n",
      "Testing Score: 0.7734375\n"
     ]
    }
   ],
   "source": [
    "from imblearn.metrics import classification_report_imbalanced\n",
    "from sklearn import model_selection\n",
    "from sklearn.ensemble import GradientBoostingClassifier\n",
    "import pickle\n",
    "#fit the model to the training set\n",
    "gbm_model = GradientBoostingClassifier(random_state=42,n_estimators=215,\n",
    "              min_samples_split=2,\n",
    "              min_samples_leaf=5,\n",
    "              max_features='sqrt',\n",
    "              max_depth=4\n",
    "              )\n",
    "\n",
    "gbm_model.fit(X_train_sm, y_train_sm)\n",
    "# save the model to disk\n",
    "filename = 'finalized_model2.pkl'\n",
    "pickle.dump(gbm_model, open(filename, 'wb'))\n",
    "\n",
    "#Print Classification Report and Accuracy\n",
    "y_pred = gbm_model.predict(X_test)\n",
    "print(f'*****************************GRADIENT BOOSTING MODEL USING SMOTE************************************')\n",
    "print(classification_report_imbalanced(y_test, y_pred))\n",
    "# rf_model.score(X_train_scaled, y_train)\n",
    "# rf_model.score(X_test_scaled, y_test)\n",
    "print(f'Training Score: {gbm_model.score(X_train_sm, y_train_sm)}')\n",
    "print(f'Testing Score: {gbm_model.score(X_test, y_test)}')"
   ]
  },
  {
   "cell_type": "code",
   "execution_count": null,
   "id": "16d7b4b4-a0ac-470b-be7c-921c4f1fa4fc",
   "metadata": {},
   "outputs": [],
   "source": []
  },
  {
   "cell_type": "code",
   "execution_count": null,
   "id": "9ff75768-ccbb-499f-b8af-95878d0e8bb8",
   "metadata": {},
   "outputs": [],
   "source": []
  },
  {
   "cell_type": "code",
   "execution_count": null,
   "id": "e60cbea4-eefe-4c45-aef6-f5c406336944",
   "metadata": {},
   "outputs": [],
   "source": []
  }
 ],
 "metadata": {
  "kernelspec": {
   "display_name": "PythonData",
   "language": "python",
   "name": "pythondata"
  },
  "language_info": {
   "codemirror_mode": {
    "name": "ipython",
    "version": 3
   },
   "file_extension": ".py",
   "mimetype": "text/x-python",
   "name": "python",
   "nbconvert_exporter": "python",
   "pygments_lexer": "ipython3",
   "version": "3.8.8"
  }
 },
 "nbformat": 4,
 "nbformat_minor": 5
}
